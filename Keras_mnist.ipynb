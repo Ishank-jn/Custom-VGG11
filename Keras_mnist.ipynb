{
 "cells": [
  {
   "cell_type": "code",
   "execution_count": 2,
   "metadata": {},
   "outputs": [
    {
     "name": "stderr",
     "output_type": "stream",
     "text": [
      "Using TensorFlow backend.\n"
     ]
    }
   ],
   "source": [
    "#Ishank Jain\n",
    "#libraries\n",
    "from __future__ import print_function\n",
    "import numpy as np\n",
    "import keras\n",
    "from keras.models import Sequential\n",
    "from keras.layers import Dense, Dropout, Flatten\n",
    "from keras.layers import Conv2D, MaxPooling2D\n",
    "from keras.optimizers import SGD   #not used\n",
    "from scipy.ndimage import rotate\n",
    "from keras.datasets import mnist\n",
    "from keras import backend as K\n",
    "K.tensorflow_backend._get_available_gpus()\n",
    "from PIL import Image\n",
    "import matplotlib.pyplot as plt"
   ]
  },
  {
   "cell_type": "code",
   "execution_count": 3,
   "metadata": {},
   "outputs": [],
   "source": [
    "%matplotlib notebook"
   ]
  },
  {
   "cell_type": "code",
   "execution_count": 4,
   "metadata": {},
   "outputs": [],
   "source": [
    "def resize(images):\n",
    "    resized_images = []\n",
    "    for img in images:\n",
    "        img = Image.fromarray(img)\n",
    "        img = img.resize((32, 32))\n",
    "        #img = np.reshape(img, (32, 32, 1))\n",
    "        img = np.array(img)\n",
    "        resized_images.append(img)\n",
    "    return np.array(resized_images)"
   ]
  },
  {
   "cell_type": "code",
   "execution_count": 5,
   "metadata": {},
   "outputs": [],
   "source": [
    "def rotates(images, deg):\n",
    "    rotated = []\n",
    "    for img in images:\n",
    "        img = Image.fromarray(img)\n",
    "        # Use PIL or other library of the sort to rotate\n",
    "        img = rotate(img, deg, reshape=False)\n",
    "        #img = np.array(img)\n",
    "        img = np.reshape(img, (32, 32, 1))\n",
    "        rotated.append(img)\n",
    "    return np.array(rotated)"
   ]
  },
  {
   "cell_type": "code",
   "execution_count": null,
   "metadata": {},
   "outputs": [],
   "source": [
    "batch_size = 150\n",
    "num_classes = 10\n",
    "epochs = 1\n",
    "\n",
    "# input image dimensions to reshape data\n",
    "#img_rows, img_cols = 32, 32\n",
    "\n",
    "# the data, split between train and test sets\n",
    "(x_train, y_train), (x_test, y_test) = mnist.load_data()\n",
    "\n",
    "#if K.image_data_format() == 'channels_first':\n",
    "#    x_train = x_train.reshape(x_train.shape[0], 1, img_rows, img_cols)\n",
    "#    x_test = x_test.reshape(x_test.shape[0], 1, img_rows, img_cols)\n",
    "#    input_shape = (1, img_rows, img_cols)\n",
    "#else:\n",
    "#    x_train = x_train.reshape(x_train.shape[0], img_rows, img_cols, 1)\n",
    "#    x_test = x_test.reshape(x_test.shape[0], img_rows, img_cols, 1)\n",
    "#    input_shape = (img_rows, img_cols, 1)\n",
    "\n",
    "#converting data to 32x32 and normalization\n",
    "x_train = x_train.astype('float32')\n",
    "x_test = x_test.astype('float32')\n",
    "\n",
    "x_train = resize(x_train)\n",
    "x_test = resize(x_test)\n",
    "x_train = rotates(x_train, 0)\n",
    "#normalize data\n",
    "x_train /= 255\n",
    "x_test /= 255\n",
    "\n",
    "#list of degree to rotate image\n",
    "degrees=list(range(-45,45,15))\n",
    "for deg in degrees: \n",
    "    \n",
    "    x_test = rotates(x_test, deg)\n",
    "\n",
    "    print('x_train shape:', x_train.shape)\n",
    "    print(x_train.shape[0], 'train samples')\n",
    "    print(x_test.shape[0], 'test samples')\n",
    "\n",
    "    # convert class vectors to binary class matrices\n",
    "    y_train = keras.utils.to_categorical(y_train, num_classes)\n",
    "    y_test = keras.utils.to_categorical(y_test, num_classes)\n",
    "\n",
    "    model = Sequential()\n",
    "    #block 1\n",
    "    model.add(Conv2D(64,(3, 3),\n",
    "                 activation='relu', \n",
    "                 padding='same',\n",
    "                 ))\n",
    "    model.add(MaxPooling2D(pool_size=(2, 2)))\n",
    "    #block 2\n",
    "    model.add(Conv2D(128, (3, 3), activation='relu',padding='same'))\n",
    "    model.add(MaxPooling2D(pool_size=(2, 2)))\n",
    "    #block 3\n",
    "    model.add(Conv2D(256, (3, 3), activation='relu', padding='same'))\n",
    "    model.add(Conv2D(256, (3, 3), activation='relu', padding='same'))\n",
    "    model.add(MaxPooling2D(pool_size=(2, 2)))\n",
    "    #block 4\n",
    "    model.add(Conv2D(512, (3, 3), activation='relu', padding='same'))\n",
    "    model.add(Conv2D(512, (3, 3), activation='relu', padding='same'))\n",
    "    model.add(MaxPooling2D(pool_size=(2, 2)))\n",
    "    #block 5\n",
    "    model.add(Conv2D(512, (3, 3), activation='relu', padding='same'))   # \n",
    "    model.add(Conv2D(512, (3, 3), activation='relu', padding='same'))   #\n",
    "    model.add(MaxPooling2D(pool_size=(2, 2)))\n",
    "    #FC layer and flattening data from 3D to 2D \n",
    "    model.add(Dropout(0.25))\n",
    "    model.add(Flatten())\n",
    "    model.add(Dense(4096, activation='relu'))\n",
    "    model.add(Dense(4096, activation='relu'))\n",
    "    model.add(Dense(4096, activation='relu'))\n",
    "    #Softmax layer\n",
    "    model.add(Dropout(0.5))\n",
    "    model.add(Dense(num_classes, activation='softmax'))\n",
    "\n",
    "    model.compile(loss=keras.losses.categorical_crossentropy,\n",
    "              optimizer=keras.optimizers.Adadelta(),\n",
    "              metrics=['accuracy'])\n",
    "\n",
    "    history=model.fit(x_train, y_train,\n",
    "          batch_size=batch_size,\n",
    "          epochs=epochs,\n",
    "          verbose=1,\n",
    "          validation_data=(x_test, y_test))\n",
    "    score = model.evaluate(x_test, y_test, verbose=0)\n",
    "    #print('Test loss:', score[0])\n",
    "    print('Test accuracy:', score[1])\n",
    "    plt.plot(deg,score[1],'bo')\n"
   ]
  },
  {
   "cell_type": "code",
   "execution_count": null,
   "metadata": {},
   "outputs": [],
   "source": []
  }
 ],
 "metadata": {
  "kernelspec": {
   "display_name": "Python 3",
   "language": "python",
   "name": "python3"
  },
  "language_info": {
   "codemirror_mode": {
    "name": "ipython",
    "version": 3
   },
   "file_extension": ".py",
   "mimetype": "text/x-python",
   "name": "python",
   "nbconvert_exporter": "python",
   "pygments_lexer": "ipython3",
   "version": "3.6.7"
  }
 },
 "nbformat": 4,
 "nbformat_minor": 2
}
